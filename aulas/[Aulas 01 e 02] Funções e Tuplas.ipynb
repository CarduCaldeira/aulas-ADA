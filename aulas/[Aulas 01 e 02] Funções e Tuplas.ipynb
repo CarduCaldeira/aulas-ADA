{
 "cells": [
  {
   "cell_type": "markdown",
   "metadata": {},
   "source": [
    "# Aulas 01 e 02 - Funções e Tuplas"
   ]
  },
  {
   "cell_type": "markdown",
   "metadata": {},
   "source": [
    "## Funções"
   ]
  },
  {
   "cell_type": "markdown",
   "metadata": {},
   "source": [
    "Iremos iniciar nosso estudo em **Lógica de Programação II** com funções, e uma novo tipo de estrutura do Python, denominada *tupla*. Avaliaremos como estas ferramentas se relacionam com o que já vimos até o momento."
   ]
  },
  {
   "cell_type": "markdown",
   "metadata": {},
   "source": [
    "### Tópicos da aula\n",
    "- Intuição das funções\n",
    "- Parâmetros\n",
    "- Retorno\n",
    "- Bônus: Recursão\n",
    "- Tuplas"
   ]
  },
  {
   "cell_type": "markdown",
   "metadata": {},
   "source": [
    "Para iniciar nossa discussão sobre funções, primeiramente, vamos criar um trecho de código que calcule o volume de um cilindro, dados seu raio *r* e altura *h*."
   ]
  },
  {
   "cell_type": "markdown",
   "metadata": {},
   "source": [
    "Volume de um cilindro\n",
    "\n",
    "<img src= 'https://br.neurochispas.com/wp-content/uploads/2022/08/Formulas-para-a-area-e-volume-de-um-cilindro.webp' width=\"200\">"
   ]
  },
  {
   "cell_type": "code",
   "execution_count": 10,
   "metadata": {},
   "outputs": [
    {
     "name": "stdout",
     "output_type": "stream",
     "text": [
      "Digite o raio do cilindro: 8\n",
      "Digite a altura do cilindro: 5\n",
      "A altura e o raio digitado foram, respectivamente, 5.0 u.c. e 8.0 u.c.\n",
      "O volume do cilindro é: 1004.8000000000001 u.v.\n"
     ]
    }
   ],
   "source": [
    "# Vamos pedir para o usuário as informações de raio e altura\n",
    "raio = float(input(\"Digite o raio do cilindro: \"))\n",
    "altura = float(input(\"Digite a altura do cilindro: \"))\n",
    "\n",
    "volume = 3.14*(raio*raio)*altura\n",
    "\n",
    "print(f\"A altura e o raio digitado foram, respectivamente, {altura} u.c. e {raio} u.c.\")\n",
    "print(f\"O volume do cilindro é: {volume} u.v.\")"
   ]
  },
  {
   "cell_type": "markdown",
   "metadata": {},
   "source": [
    "Similarmente, vamos, agora, calcular a área de um trapézio, dados os valores necessários.\n",
    "\n",
    "<img src='https://www.matematica.pt/images/faq/calcular-area-trapezio.png' width='300'>"
   ]
  },
  {
   "cell_type": "code",
   "execution_count": 12,
   "metadata": {},
   "outputs": [
    {
     "name": "stdout",
     "output_type": "stream",
     "text": [
      "Digite a altura do trapézio: 8\n",
      "Digite a base menor: 6\n",
      "Digite a base maior: 5\n",
      "A área do trapézio é 44.0 u.a.\n"
     ]
    }
   ],
   "source": [
    "h = float(input(\"Digite a altura do trapézio: \"))\n",
    "b = float(input(\"Digite a base menor: \"))\n",
    "B = float(input(\"Digite a base maior: \"))\n",
    "\n",
    "area = ((b + B)*h)/2\n",
    "\n",
    "print(f\"A área do trapézio é {area} u.a.\")"
   ]
  },
  {
   "cell_type": "markdown",
   "metadata": {},
   "source": [
    "Para praticar um pouco mais, vamos modificar os dados da lista a seguir utilizando a relação abaixo:\n",
    "\n",
    "$\\frac{X-\\overline{X}}{N}$, em que $\\overline{X}$ é a média dos valores e $N$ o total de items na lista\n",
    "\n",
    "\n",
    "[1, 2, 5, 6, 7, 10, 11, 15, 28, 19, 24, 55, 100, 101]"
   ]
  },
  {
   "cell_type": "code",
   "execution_count": 13,
   "metadata": {},
   "outputs": [
    {
     "data": {
      "text/plain": [
       "[-1.8877551020408163,\n",
       " -1.8163265306122447,\n",
       " -1.6020408163265305,\n",
       " -1.530612244897959,\n",
       " -1.4591836734693877,\n",
       " -1.2448979591836733,\n",
       " -1.173469387755102,\n",
       " -0.8877551020408162,\n",
       " 0.04081632653061235,\n",
       " -0.6020408163265305,\n",
       " -0.24489795918367335,\n",
       " 1.969387755102041,\n",
       " 5.183673469387755,\n",
       " 5.255102040816326]"
      ]
     },
     "execution_count": 13,
     "metadata": {},
     "output_type": "execute_result"
    }
   ],
   "source": [
    "lista = [1, 2, 5, 6, 7, 10, 11, 15, 28, 19, 24, 55, 100, 101]\n",
    "nova_lista = []\n",
    "media = sum(lista)/len(lista)\n",
    "\n",
    "for item in lista:\n",
    "    nova_lista.append((item - media)/len(lista))\n",
    "\n",
    "nova_lista"
   ]
  },
  {
   "cell_type": "markdown",
   "metadata": {},
   "source": [
    "E se quisermos utilizar diversas vezes o mesmo trecho de código?\n",
    "\n",
    "Para isso podemos usar as **funções**\n",
    "\n",
    "Para definir uma função utilizamos a palavra `def`"
   ]
  },
  {
   "cell_type": "code",
   "execution_count": 14,
   "metadata": {},
   "outputs": [],
   "source": [
    "def nome_funcao(): # definição de uma nova função\n",
    "    # código a ser executado\n",
    "    pass"
   ]
  },
  {
   "cell_type": "code",
   "execution_count": 2,
   "metadata": {},
   "outputs": [],
   "source": [
    "# Definir, como exemplo, uma função que imprima três linhas\n",
    "\n",
    "def imprime_linhas():\n",
    "    print(\"linha1\")\n",
    "    print(\"linha2\")\n",
    "    print(\"linha3\")"
   ]
  },
  {
   "cell_type": "markdown",
   "metadata": {},
   "source": [
    "E como eu faço para chamar a função?"
   ]
  },
  {
   "cell_type": "code",
   "execution_count": 17,
   "metadata": {},
   "outputs": [
    {
     "data": {
      "text/plain": [
       "<function __main__.imprime_linhas()>"
      ]
     },
     "execution_count": 17,
     "metadata": {},
     "output_type": "execute_result"
    }
   ],
   "source": [
    "# chamar pelo nome da função\n",
    "imprime_linhas"
   ]
  },
  {
   "cell_type": "code",
   "execution_count": 3,
   "metadata": {},
   "outputs": [
    {
     "name": "stdout",
     "output_type": "stream",
     "text": [
      "linha1\n",
      "linha2\n",
      "linha3\n"
     ]
    }
   ],
   "source": [
    "imprime_linhas() # com os parâmetros"
   ]
  },
  {
   "cell_type": "code",
   "execution_count": 19,
   "metadata": {},
   "outputs": [],
   "source": [
    "# E nosso exemplo do volume do cilindro?\n",
    "\n",
    "def volume_cilindro():\n",
    "    raio = float(input(\"Digite o raio do cilindro: \"))\n",
    "    altura = float(input(\"Digite a altura do cilindro: \"))\n",
    "\n",
    "    volume = 3.14*(raio*raio)*altura\n",
    "\n",
    "    print(f\"A altura e o raio digitado foram, respectivamente, {altura} u.c. e {raio} u.c.\")\n",
    "    print(f\"O volume do cilindro é: {volume} u.v.\")"
   ]
  },
  {
   "cell_type": "code",
   "execution_count": 20,
   "metadata": {},
   "outputs": [
    {
     "name": "stdout",
     "output_type": "stream",
     "text": [
      "Digite o raio do cilindro: 8\n",
      "Digite a altura do cilindro: 5\n",
      "A altura e o raio digitado foram, respectivamente, 5.0 u.c. e 8.0 u.c.\n",
      "O volume do cilindro é: 1004.8000000000001 u.v.\n"
     ]
    }
   ],
   "source": [
    "volume_cilindro()"
   ]
  },
  {
   "cell_type": "code",
   "execution_count": 21,
   "metadata": {},
   "outputs": [],
   "source": [
    "def volume_cilindro(raio, altura):\n",
    "    volume = 3.14*(raio*raio)*altura\n",
    "\n",
    "    print(f\"A altura e o raio digitado foram, respectivamente, {altura} u.c. e {raio} u.c.\")\n",
    "    print(f\"O volume do cilindro é: {volume} u.v.\")"
   ]
  },
  {
   "cell_type": "code",
   "execution_count": 22,
   "metadata": {},
   "outputs": [
    {
     "ename": "TypeError",
     "evalue": "volume_cilindro() missing 2 required positional arguments: 'raio' and 'altura'",
     "output_type": "error",
     "traceback": [
      "\u001b[1;31m---------------------------------------------------------------------------\u001b[0m",
      "\u001b[1;31mTypeError\u001b[0m                                 Traceback (most recent call last)",
      "\u001b[1;32m<ipython-input-22-306d3d93cde1>\u001b[0m in \u001b[0;36m<module>\u001b[1;34m\u001b[0m\n\u001b[1;32m----> 1\u001b[1;33m \u001b[0mvolume_cilindro\u001b[0m\u001b[1;33m(\u001b[0m\u001b[1;33m)\u001b[0m\u001b[1;33m\u001b[0m\u001b[1;33m\u001b[0m\u001b[0m\n\u001b[0m",
      "\u001b[1;31mTypeError\u001b[0m: volume_cilindro() missing 2 required positional arguments: 'raio' and 'altura'"
     ]
    }
   ],
   "source": [
    "volume_cilindro()"
   ]
  },
  {
   "cell_type": "code",
   "execution_count": 25,
   "metadata": {},
   "outputs": [
    {
     "name": "stdout",
     "output_type": "stream",
     "text": [
      "A altura e o raio digitado foram, respectivamente, 5 u.c. e 8 u.c.\n",
      "O volume do cilindro é: 1004.8000000000001 u.v.\n"
     ]
    }
   ],
   "source": [
    "volume_cilindro(8, 5)"
   ]
  },
  {
   "cell_type": "code",
   "execution_count": 26,
   "metadata": {},
   "outputs": [
    {
     "name": "stdout",
     "output_type": "stream",
     "text": [
      "A altura e o raio digitado foram, respectivamente, 5 u.c. e 8 u.c.\n",
      "O volume do cilindro é: 1004.8000000000001 u.v.\n"
     ]
    }
   ],
   "source": [
    "volume_cilindro(raio = 8, altura = 5)"
   ]
  },
  {
   "cell_type": "code",
   "execution_count": 27,
   "metadata": {},
   "outputs": [
    {
     "name": "stdout",
     "output_type": "stream",
     "text": [
      "Digite o raio do cilindro: 10\n",
      "Digite a altura do cilindro: 10\n",
      "A altura e o raio digitado foram, respectivamente, 10.0 u.c. e 10.0 u.c.\n",
      "O volume do cilindro é: 3140.0 u.v.\n"
     ]
    }
   ],
   "source": [
    "raio = float(input(\"Digite o raio do cilindro: \"))\n",
    "altura = float(input(\"Digite a altura do cilindro: \"))\n",
    "\n",
    "volume_cilindro(raio, altura)"
   ]
  },
  {
   "cell_type": "markdown",
   "metadata": {},
   "source": [
    "**Exercício:** transforme os trechos de código que escrevemos anteriormanete, da área do trapézio e da operação com a lista, em funções. O que precisa ser adaptado?"
   ]
  },
  {
   "cell_type": "code",
   "execution_count": 28,
   "metadata": {},
   "outputs": [],
   "source": [
    "def calcula_area_trapezio():\n",
    "    h = float(input(\"Digite a altura do trapézio: \"))\n",
    "    b = float(input(\"Digite a base menor: \"))\n",
    "    B = float(input(\"Digite a base maior: \"))\n",
    "\n",
    "    area = ((b + B)*h)/2\n",
    "\n",
    "    print(f\"A área do trapézio é {area} u.a.\")"
   ]
  },
  {
   "cell_type": "code",
   "execution_count": 29,
   "metadata": {},
   "outputs": [
    {
     "name": "stdout",
     "output_type": "stream",
     "text": [
      "Digite a altura do trapézio: 8\n",
      "Digite a base menor: 6\n",
      "Digite a base maior: 10\n",
      "A área do trapézio é 64.0 u.a.\n"
     ]
    }
   ],
   "source": [
    "calcula_area_trapezio()"
   ]
  },
  {
   "cell_type": "code",
   "execution_count": 4,
   "metadata": {},
   "outputs": [],
   "source": [
    "def calcula_area_trapezio(h, b, B):\n",
    "    area = ((b + B)*h)/2\n",
    "    print(f\"A área do trapézio é {area} u.a.\")"
   ]
  },
  {
   "cell_type": "code",
   "execution_count": 5,
   "metadata": {},
   "outputs": [
    {
     "name": "stdout",
     "output_type": "stream",
     "text": [
      "A área do trapézio é 64.0 u.a.\n"
     ]
    }
   ],
   "source": [
    "calcula_area_trapezio(8,6,10)"
   ]
  },
  {
   "cell_type": "code",
   "execution_count": 6,
   "metadata": {},
   "outputs": [
    {
     "name": "stdout",
     "output_type": "stream",
     "text": [
      "A área do trapézio é 305.0 u.a.\n"
     ]
    }
   ],
   "source": [
    "calcula_area_trapezio(20, 0.5, 30)"
   ]
  },
  {
   "cell_type": "code",
   "execution_count": 7,
   "metadata": {},
   "outputs": [],
   "source": [
    "def soma(a,b):\n",
    "    A = a\n",
    "    B = b\n",
    "    print(f\"A soma é {A + B}\")"
   ]
  },
  {
   "cell_type": "code",
   "execution_count": 8,
   "metadata": {},
   "outputs": [
    {
     "name": "stdout",
     "output_type": "stream",
     "text": [
      "A soma é 6\n"
     ]
    }
   ],
   "source": [
    "soma(2,4)"
   ]
  },
  {
   "cell_type": "code",
   "execution_count": 9,
   "metadata": {},
   "outputs": [
    {
     "name": "stdout",
     "output_type": "stream",
     "text": [
      "A soma é 0\n"
     ]
    }
   ],
   "source": [
    "soma(20, -20)"
   ]
  },
  {
   "cell_type": "code",
   "execution_count": 37,
   "metadata": {},
   "outputs": [
    {
     "ename": "NameError",
     "evalue": "name 'A' is not defined",
     "output_type": "error",
     "traceback": [
      "\u001b[1;31m---------------------------------------------------------------------------\u001b[0m",
      "\u001b[1;31mNameError\u001b[0m                                 Traceback (most recent call last)",
      "\u001b[1;32m<ipython-input-37-7d157d7c000a>\u001b[0m in \u001b[0;36m<module>\u001b[1;34m\u001b[0m\n\u001b[1;32m----> 1\u001b[1;33m \u001b[0mA\u001b[0m\u001b[1;33m\u001b[0m\u001b[1;33m\u001b[0m\u001b[0m\n\u001b[0m",
      "\u001b[1;31mNameError\u001b[0m: name 'A' is not defined"
     ]
    }
   ],
   "source": [
    "A"
   ]
  },
  {
   "cell_type": "markdown",
   "metadata": {},
   "source": [
    "### Parâmetros da função"
   ]
  },
  {
   "cell_type": "code",
   "execution_count": 38,
   "metadata": {},
   "outputs": [],
   "source": [
    "# Os parâmetros servem para definirmos maneiras de \"generalizar\" o que a função deve fazer\n",
    "# Os parâmetros servem de \"entrada\" para a função que deverá ser executada\n",
    "# Diz-se que o parâmetro ele é recebido pela função\n",
    "\n",
    "def bom_dia(nome):\n",
    "    print(f\"Bom dia, {nome}\")"
   ]
  },
  {
   "cell_type": "code",
   "execution_count": 39,
   "metadata": {},
   "outputs": [
    {
     "name": "stdout",
     "output_type": "stream",
     "text": [
      "Bom dia, Carlos\n"
     ]
    }
   ],
   "source": [
    "bom_dia(\"Carlos\")"
   ]
  },
  {
   "cell_type": "code",
   "execution_count": 40,
   "metadata": {},
   "outputs": [
    {
     "name": "stdout",
     "output_type": "stream",
     "text": [
      "Bom dia, Lucas\n"
     ]
    }
   ],
   "source": [
    "bom_dia(\"Lucas\")"
   ]
  },
  {
   "cell_type": "code",
   "execution_count": 41,
   "metadata": {},
   "outputs": [],
   "source": [
    "# Podemos solicitar mais de um parâmetros\n",
    "\n",
    "def cadastro(nome, idade, cidade):\n",
    "    print(nome, \"tem\", idade, \"anos e mora em\", cidade)"
   ]
  },
  {
   "cell_type": "code",
   "execution_count": 42,
   "metadata": {},
   "outputs": [
    {
     "ename": "TypeError",
     "evalue": "cadastro() missing 3 required positional arguments: 'nome', 'idade', and 'cidade'",
     "output_type": "error",
     "traceback": [
      "\u001b[1;31m---------------------------------------------------------------------------\u001b[0m",
      "\u001b[1;31mTypeError\u001b[0m                                 Traceback (most recent call last)",
      "\u001b[1;32m<ipython-input-42-a845f7b9637a>\u001b[0m in \u001b[0;36m<module>\u001b[1;34m\u001b[0m\n\u001b[1;32m----> 1\u001b[1;33m \u001b[0mcadastro\u001b[0m\u001b[1;33m(\u001b[0m\u001b[1;33m)\u001b[0m\u001b[1;33m\u001b[0m\u001b[1;33m\u001b[0m\u001b[0m\n\u001b[0m",
      "\u001b[1;31mTypeError\u001b[0m: cadastro() missing 3 required positional arguments: 'nome', 'idade', and 'cidade'"
     ]
    }
   ],
   "source": [
    "cadastro()"
   ]
  },
  {
   "cell_type": "code",
   "execution_count": 45,
   "metadata": {},
   "outputs": [
    {
     "name": "stdout",
     "output_type": "stream",
     "text": [
      "Carlos tem 32 anos e mora em Sorocaba\n"
     ]
    }
   ],
   "source": [
    "cadastro(nome = 'Carlos', idade = 32, cidade = 'Sorocaba')"
   ]
  },
  {
   "cell_type": "code",
   "execution_count": 47,
   "metadata": {},
   "outputs": [
    {
     "name": "stdout",
     "output_type": "stream",
     "text": [
      "Lucas tem 30 anos e mora em Goiânia\n"
     ]
    }
   ],
   "source": [
    "cadastro(\"Lucas\", 30, \"Goiânia\")"
   ]
  },
  {
   "cell_type": "code",
   "execution_count": 51,
   "metadata": {},
   "outputs": [
    {
     "name": "stdout",
     "output_type": "stream",
     "text": [
      "Lucas tem 30 anos e mora em Goiânia\n",
      "Lucas tem 30 anos e mora em Goiânia\n",
      "Lucas tem 30 anos e mora em Goiânia\n"
     ]
    }
   ],
   "source": [
    "cadastro(\"Lucas\", 30, \"Goiânia\") # passamos apenas os argumentos na ordem em que foram definidos pela função\n",
    "\n",
    "cadastro(nome = \"Lucas\", idade = 30, cidade = \"Goiânia\") # idem ao anterior, mas especificando os parâmetros explicitamente\n",
    "\n",
    "cadastro(idade = 30, nome = \"Lucas\", cidade = \"Goiânia\") # podemos trocar a ordem, se especificamos quais são os parâmetros"
   ]
  },
  {
   "cell_type": "code",
   "execution_count": 52,
   "metadata": {},
   "outputs": [
    {
     "name": "stdout",
     "output_type": "stream",
     "text": [
      "30 tem Goiânia anos e mora em Lucas\n"
     ]
    }
   ],
   "source": [
    "cadastro(30, \"Goiânia\", \"Lucas\")"
   ]
  },
  {
   "cell_type": "code",
   "execution_count": 55,
   "metadata": {},
   "outputs": [
    {
     "name": "stdout",
     "output_type": "stream",
     "text": [
      "Lucas tem 30 anos e mora em None\n"
     ]
    }
   ],
   "source": [
    "cadastro(\"Lucas\", 30, None)"
   ]
  },
  {
   "cell_type": "code",
   "execution_count": 56,
   "metadata": {},
   "outputs": [],
   "source": [
    "# Podemos atribuir um \"valor-padrão\" para os parâmetros da função\n",
    "# O valor-padrão é aquele que será utilizado pela função, caso não seja passado\n",
    "\n",
    "# Vamos fazer uma função para imprimir se uma idade de entrada corresponde a uma pessoa maior de idade, ou menor de idade\n",
    "\n",
    "def maior_idade(idade):\n",
    "    if idade >= 18:\n",
    "        print(f\"Maior de idade.\")\n",
    "    else:\n",
    "        print(\"Menor de idade\")"
   ]
  },
  {
   "cell_type": "code",
   "execution_count": 57,
   "metadata": {},
   "outputs": [
    {
     "name": "stdout",
     "output_type": "stream",
     "text": [
      "Maior de idade.\n"
     ]
    }
   ],
   "source": [
    "maior_idade(80)"
   ]
  },
  {
   "cell_type": "code",
   "execution_count": 58,
   "metadata": {},
   "outputs": [
    {
     "name": "stdout",
     "output_type": "stream",
     "text": [
      "Menor de idade\n"
     ]
    }
   ],
   "source": [
    "maior_idade(5)"
   ]
  },
  {
   "cell_type": "code",
   "execution_count": 59,
   "metadata": {},
   "outputs": [
    {
     "ename": "TypeError",
     "evalue": "maior_idade() missing 1 required positional argument: 'idade'",
     "output_type": "error",
     "traceback": [
      "\u001b[1;31m---------------------------------------------------------------------------\u001b[0m",
      "\u001b[1;31mTypeError\u001b[0m                                 Traceback (most recent call last)",
      "\u001b[1;32m<ipython-input-59-030da6394e84>\u001b[0m in \u001b[0;36m<module>\u001b[1;34m\u001b[0m\n\u001b[1;32m----> 1\u001b[1;33m \u001b[0mmaior_idade\u001b[0m\u001b[1;33m(\u001b[0m\u001b[1;33m)\u001b[0m\u001b[1;33m\u001b[0m\u001b[1;33m\u001b[0m\u001b[0m\n\u001b[0m",
      "\u001b[1;31mTypeError\u001b[0m: maior_idade() missing 1 required positional argument: 'idade'"
     ]
    }
   ],
   "source": [
    "maior_idade()"
   ]
  },
  {
   "cell_type": "code",
   "execution_count": 64,
   "metadata": {},
   "outputs": [],
   "source": [
    "def maior_idade(idade=0): # idade = 0 será utilizado como valor-padrão\n",
    "    if idade >= 18:\n",
    "        print(f\"Maior de idade.\")\n",
    "    else:\n",
    "        print(\"Menor de idade\")"
   ]
  },
  {
   "cell_type": "code",
   "execution_count": 70,
   "metadata": {},
   "outputs": [
    {
     "ename": "SyntaxError",
     "evalue": "invalid syntax (<ipython-input-70-b5e06ec8e405>, line 1)",
     "output_type": "error",
     "traceback": [
      "\u001b[1;36m  File \u001b[1;32m\"<ipython-input-70-b5e06ec8e405>\"\u001b[1;36m, line \u001b[1;32m1\u001b[0m\n\u001b[1;33m    def maior_idade(0): # idade = 0 será utilizado como valor-padrão\u001b[0m\n\u001b[1;37m                    ^\u001b[0m\n\u001b[1;31mSyntaxError\u001b[0m\u001b[1;31m:\u001b[0m invalid syntax\n"
     ]
    }
   ],
   "source": [
    "def maior_idade(0): # idade = 0 será utilizado como valor-padrão\n",
    "    if idade >= 18:\n",
    "        print(f\"Maior de idade.\")\n",
    "    else:\n",
    "        print(\"Menor de idade\")"
   ]
  },
  {
   "cell_type": "code",
   "execution_count": 65,
   "metadata": {},
   "outputs": [
    {
     "name": "stdout",
     "output_type": "stream",
     "text": [
      "Menor de idade\n"
     ]
    }
   ],
   "source": [
    "maior_idade()"
   ]
  },
  {
   "cell_type": "code",
   "execution_count": 66,
   "metadata": {},
   "outputs": [],
   "source": [
    "# Podemos, também, utilizar listas (e outros tipos de dados) como parâmetros\n",
    "\n",
    "# EXEMPLO: função para calcular a soma dos elementos de uma lista\n",
    "def somatorio(lista):\n",
    "    soma = 0\n",
    "    \n",
    "    for item in lista:\n",
    "        soma = soma + item\n",
    "    print(f\"A soma é {soma}\")"
   ]
  },
  {
   "cell_type": "code",
   "execution_count": 68,
   "metadata": {},
   "outputs": [
    {
     "name": "stdout",
     "output_type": "stream",
     "text": [
      "A soma é 1978\n"
     ]
    }
   ],
   "source": [
    "somatorio([1, 2, 3, 9, 0, -80, 2043])"
   ]
  },
  {
   "cell_type": "code",
   "execution_count": 13,
   "metadata": {},
   "outputs": [],
   "source": [
    "def soma(a,b):\n",
    "    A = a\n",
    "    B = b\n",
    "    print(f\"A soma é {A + B}\")"
   ]
  },
  {
   "cell_type": "code",
   "execution_count": 14,
   "metadata": {},
   "outputs": [
    {
     "name": "stdout",
     "output_type": "stream",
     "text": [
      "A soma é 30\n"
     ]
    }
   ],
   "source": [
    "soma(10,20)"
   ]
  },
  {
   "cell_type": "code",
   "execution_count": 15,
   "metadata": {},
   "outputs": [
    {
     "name": "stdout",
     "output_type": "stream",
     "text": [
      "A soma é 30\n"
     ]
    }
   ],
   "source": [
    "s = soma(10,20)"
   ]
  },
  {
   "cell_type": "code",
   "execution_count": 16,
   "metadata": {},
   "outputs": [],
   "source": [
    "s"
   ]
  },
  {
   "cell_type": "code",
   "execution_count": 17,
   "metadata": {},
   "outputs": [
    {
     "data": {
      "text/plain": [
       "NoneType"
      ]
     },
     "execution_count": 17,
     "metadata": {},
     "output_type": "execute_result"
    }
   ],
   "source": [
    "type(s)"
   ]
  },
  {
   "cell_type": "markdown",
   "metadata": {},
   "source": [
    "### Return"
   ]
  },
  {
   "cell_type": "markdown",
   "metadata": {},
   "source": [
    "Até o momento, exploramos funções que, essencialmente, imprimiam uma mensagem ou valor no console para o usuário. Podemos, também, **retornar** valores de saída da função, para que sejam utilizados no restante do código."
   ]
  },
  {
   "cell_type": "code",
   "execution_count": 18,
   "metadata": {},
   "outputs": [],
   "source": [
    "def nome_funcao():\n",
    "    return # retorna um valor da função (algo que vamos utilizar posteriormente no código)"
   ]
  },
  {
   "cell_type": "code",
   "execution_count": 19,
   "metadata": {},
   "outputs": [],
   "source": [
    "def soma(a,b):\n",
    "    A = a\n",
    "    B = b\n",
    "    print(f\"A soma é {A + B}\")\n",
    "    \n",
    "    return a+b"
   ]
  },
  {
   "cell_type": "code",
   "execution_count": 20,
   "metadata": {},
   "outputs": [
    {
     "name": "stdout",
     "output_type": "stream",
     "text": [
      "A soma é 12\n"
     ]
    }
   ],
   "source": [
    "s = soma(10,2)"
   ]
  },
  {
   "cell_type": "code",
   "execution_count": 21,
   "metadata": {},
   "outputs": [
    {
     "data": {
      "text/plain": [
       "12"
      ]
     },
     "execution_count": 21,
     "metadata": {},
     "output_type": "execute_result"
    }
   ],
   "source": [
    "s # agora a variável possui o valor que foi retornado pela função"
   ]
  },
  {
   "cell_type": "code",
   "execution_count": 22,
   "metadata": {},
   "outputs": [],
   "source": [
    "# Vamos escrever uma função que retorne a soma dos elementos de uma lista\n",
    "\n",
    "def soma_lista(lista):\n",
    "    soma = 0\n",
    "    \n",
    "    for elemento in lista:\n",
    "        soma = soma + elemento\n",
    "    return soma # retornamos o valor da soma"
   ]
  },
  {
   "cell_type": "code",
   "execution_count": 23,
   "metadata": {},
   "outputs": [
    {
     "data": {
      "text/plain": [
       "15"
      ]
     },
     "execution_count": 23,
     "metadata": {},
     "output_type": "execute_result"
    }
   ],
   "source": [
    "soma_lista([1,2,3,4,5])"
   ]
  },
  {
   "cell_type": "code",
   "execution_count": 24,
   "metadata": {},
   "outputs": [
    {
     "data": {
      "text/plain": [
       "-15"
      ]
     },
     "execution_count": 24,
     "metadata": {},
     "output_type": "execute_result"
    }
   ],
   "source": [
    "soma_lista([-20,0,5])"
   ]
  },
  {
   "cell_type": "code",
   "execution_count": 25,
   "metadata": {},
   "outputs": [
    {
     "ename": "TypeError",
     "evalue": "unsupported operand type(s) for +: 'int' and 'str'",
     "output_type": "error",
     "traceback": [
      "\u001b[1;31m---------------------------------------------------------------------------\u001b[0m",
      "\u001b[1;31mTypeError\u001b[0m                                 Traceback (most recent call last)",
      "\u001b[1;32m<ipython-input-25-03f48bf7d1a2>\u001b[0m in \u001b[0;36m<module>\u001b[1;34m\u001b[0m\n\u001b[1;32m----> 1\u001b[1;33m \u001b[0msoma_lista\u001b[0m\u001b[1;33m(\u001b[0m\u001b[1;33m[\u001b[0m\u001b[1;36m1\u001b[0m\u001b[1;33m,\u001b[0m\u001b[1;34m'a'\u001b[0m\u001b[1;33m]\u001b[0m\u001b[1;33m)\u001b[0m\u001b[1;33m\u001b[0m\u001b[1;33m\u001b[0m\u001b[0m\n\u001b[0m",
      "\u001b[1;32m<ipython-input-22-5ec45e9cc0ac>\u001b[0m in \u001b[0;36msoma_lista\u001b[1;34m(lista)\u001b[0m\n\u001b[0;32m      5\u001b[0m \u001b[1;33m\u001b[0m\u001b[0m\n\u001b[0;32m      6\u001b[0m     \u001b[1;32mfor\u001b[0m \u001b[0melemento\u001b[0m \u001b[1;32min\u001b[0m \u001b[0mlista\u001b[0m\u001b[1;33m:\u001b[0m\u001b[1;33m\u001b[0m\u001b[1;33m\u001b[0m\u001b[0m\n\u001b[1;32m----> 7\u001b[1;33m         \u001b[0msoma\u001b[0m \u001b[1;33m=\u001b[0m \u001b[0msoma\u001b[0m \u001b[1;33m+\u001b[0m \u001b[0melemento\u001b[0m\u001b[1;33m\u001b[0m\u001b[1;33m\u001b[0m\u001b[0m\n\u001b[0m\u001b[0;32m      8\u001b[0m     \u001b[1;32mreturn\u001b[0m \u001b[0msoma\u001b[0m \u001b[1;31m# retornamos o valor da soma\u001b[0m\u001b[1;33m\u001b[0m\u001b[1;33m\u001b[0m\u001b[0m\n",
      "\u001b[1;31mTypeError\u001b[0m: unsupported operand type(s) for +: 'int' and 'str'"
     ]
    }
   ],
   "source": [
    "soma_lista([1,'a'])"
   ]
  },
  {
   "cell_type": "code",
   "execution_count": 26,
   "metadata": {},
   "outputs": [],
   "source": [
    "total_da_lista = soma_lista([2,5,8])"
   ]
  },
  {
   "cell_type": "code",
   "execution_count": 27,
   "metadata": {},
   "outputs": [
    {
     "name": "stdout",
     "output_type": "stream",
     "text": [
      "A soma dos elementos da lista é 15\n"
     ]
    }
   ],
   "source": [
    "print(f\"A soma dos elementos da lista é {total_da_lista}\")"
   ]
  },
  {
   "cell_type": "markdown",
   "metadata": {},
   "source": [
    "### Funções Recursivas\n",
    "\n",
    "Quando escrevemos funções, podemos trabahar com duas estratégias principais: **iterativa** e **recursiva**. Ambos os termos referem-se a dois tipos diferentes de estrutura de código que executarm uma série de instruções sequenciais de forma repetida.\n",
    "\n",
    "#### O que é iteração?\n",
    "Esse é o tipo de código que temos estudado até o momento!\n",
    "\n",
    "O código é estruturado em laços (`loops`) de repetição que executam uma série de instruções. Em outras palavras, a iteração utiliza de **estruturas de repetição**.\n",
    "\n",
    "Para relembrar essa estrutura de código, vamos pensar num algoritmo que irá pegar um livro baseado em uma pilha de livros. Nosso objeto é achar o livro de interesse. Assim, começamos por pegar um livro de cada vez e verificamos uma dada condição (i.e., se é o livro que procuramos). Se encontramos o livro, finalizamos o nosso trabalho; caso contrário, continuamos a procurar o livro um por um até o último livro da pilha.\n",
    "\n",
    "O pseudocódigo seria:\n",
    "- Contrua uma pilha de livros a ser procurado\n",
    "- Enquanto houver livros não vasculhados:\n",
    "  - Pegue um livro:\n",
    "    - Se o livro não for o livro de interesse, remova da pilha\n",
    "    - Se o livro for de interesse, finalizamos o trabalho\n",
    "  - Volte para a pilha de livros\n",
    "\n",
    "Um possível código seria:"
   ]
  },
  {
   "cell_type": "code",
   "execution_count": 31,
   "metadata": {},
   "outputs": [],
   "source": [
    "pilha_de_livros = [\"Harry Potter\", \"O Hobbit\", \"Drácula\", \"O andar do bêbado\", \"Cinderela\", \"Miseráveis\", \"Fundamentos de Física\", \"Curso de Física Básica\"]\n",
    "livro_de_interesse = \"Harry Potter\"\n",
    "\n",
    "def achador_de_livros(pilha_de_livros, livro_de_interesse):\n",
    "    k = 0\n",
    "    \n",
    "    for livro in pilha_de_livros:\n",
    "        if livro == livro_de_interesse: # Encontramos o livro\n",
    "            return k\n",
    "        else:\n",
    "            pilha_de_livros.remove()\n",
    "            k += 1"
   ]
  },
  {
   "cell_type": "code",
   "execution_count": 34,
   "metadata": {},
   "outputs": [],
   "source": [
    "lista = [1,2,3]\n",
    "retorno_do_pop = lista.pop()"
   ]
  },
  {
   "cell_type": "code",
   "execution_count": 35,
   "metadata": {},
   "outputs": [
    {
     "data": {
      "text/plain": [
       "3"
      ]
     },
     "execution_count": 35,
     "metadata": {},
     "output_type": "execute_result"
    }
   ],
   "source": [
    "retorno_do_pop"
   ]
  },
  {
   "cell_type": "code",
   "execution_count": 33,
   "metadata": {},
   "outputs": [
    {
     "data": {
      "text/plain": [
       "[1, 2]"
      ]
     },
     "execution_count": 33,
     "metadata": {},
     "output_type": "execute_result"
    }
   ],
   "source": [
    "lista"
   ]
  },
  {
   "cell_type": "code",
   "execution_count": 38,
   "metadata": {},
   "outputs": [],
   "source": [
    "def achador_de_livros(pilha_de_livros, livro_de_interesse):\n",
    "    pilha_de_livros_busca = pilha_de_livros[::]\n",
    "    print(\"Vamos buscar o livro \",livro_de_interesse)\n",
    "    \n",
    "    while pilha_de_livros_busca:\n",
    "        livro_da_pilha = pilha_de_livros_busca.pop() # estou pegando o último elemento da lista (o livro do topo da pilha)\n",
    "        \n",
    "        print(\"Tamanho da pilha original: \", len(pilha_de_livros))\n",
    "        print(\"Tamanho da pilha de busca: \", len(pilha_de_livros_busca))\n",
    "        print(\"Analisando o livro: \", livro_da_pilha)\n",
    "        \n",
    "        if livro_da_pilha == livro_de_interesse:\n",
    "            return livro_de_interesse\n",
    "        else:\n",
    "            print(\"Continuando a busca\")\n",
    "        print(\"-\"*30)\n",
    "        \n",
    "    print(\"Livro não encontrado\")\n",
    "    return \"Livro não encontrado\""
   ]
  },
  {
   "cell_type": "code",
   "execution_count": 39,
   "metadata": {},
   "outputs": [
    {
     "name": "stdout",
     "output_type": "stream",
     "text": [
      "Vamos buscar o livro  Harry Potter\n",
      "Tamanho da pilha original:  8\n",
      "Tamanho da pilha de busca:  7\n",
      "Analisando o livro:  Curso de Física Básica\n",
      "Continuando a busca\n",
      "------------------------------\n",
      "Tamanho da pilha original:  8\n",
      "Tamanho da pilha de busca:  6\n",
      "Analisando o livro:  Fundamentos de Física\n",
      "Continuando a busca\n",
      "------------------------------\n",
      "Tamanho da pilha original:  8\n",
      "Tamanho da pilha de busca:  5\n",
      "Analisando o livro:  Miseráveis\n",
      "Continuando a busca\n",
      "------------------------------\n",
      "Tamanho da pilha original:  8\n",
      "Tamanho da pilha de busca:  4\n",
      "Analisando o livro:  Cinderela\n",
      "Continuando a busca\n",
      "------------------------------\n",
      "Tamanho da pilha original:  8\n",
      "Tamanho da pilha de busca:  3\n",
      "Analisando o livro:  O andar do bêbado\n",
      "Continuando a busca\n",
      "------------------------------\n",
      "Tamanho da pilha original:  8\n",
      "Tamanho da pilha de busca:  2\n",
      "Analisando o livro:  Drácula\n",
      "Continuando a busca\n",
      "------------------------------\n",
      "Tamanho da pilha original:  8\n",
      "Tamanho da pilha de busca:  1\n",
      "Analisando o livro:  O Hobbit\n",
      "Continuando a busca\n",
      "------------------------------\n",
      "Tamanho da pilha original:  8\n",
      "Tamanho da pilha de busca:  0\n",
      "Analisando o livro:  Harry Potter\n"
     ]
    },
    {
     "data": {
      "text/plain": [
       "'Harry Potter'"
      ]
     },
     "execution_count": 39,
     "metadata": {},
     "output_type": "execute_result"
    }
   ],
   "source": [
    "achador_de_livros(pilha_de_livros, livro_de_interesse)"
   ]
  },
  {
   "cell_type": "code",
   "execution_count": 40,
   "metadata": {},
   "outputs": [
    {
     "name": "stdout",
     "output_type": "stream",
     "text": [
      "Vamos buscar o livro  Revolução dos Bichos\n",
      "Tamanho da pilha original:  8\n",
      "Tamanho da pilha de busca:  7\n",
      "Analisando o livro:  Curso de Física Básica\n",
      "Continuando a busca\n",
      "------------------------------\n",
      "Tamanho da pilha original:  8\n",
      "Tamanho da pilha de busca:  6\n",
      "Analisando o livro:  Fundamentos de Física\n",
      "Continuando a busca\n",
      "------------------------------\n",
      "Tamanho da pilha original:  8\n",
      "Tamanho da pilha de busca:  5\n",
      "Analisando o livro:  Miseráveis\n",
      "Continuando a busca\n",
      "------------------------------\n",
      "Tamanho da pilha original:  8\n",
      "Tamanho da pilha de busca:  4\n",
      "Analisando o livro:  Cinderela\n",
      "Continuando a busca\n",
      "------------------------------\n",
      "Tamanho da pilha original:  8\n",
      "Tamanho da pilha de busca:  3\n",
      "Analisando o livro:  O andar do bêbado\n",
      "Continuando a busca\n",
      "------------------------------\n",
      "Tamanho da pilha original:  8\n",
      "Tamanho da pilha de busca:  2\n",
      "Analisando o livro:  Drácula\n",
      "Continuando a busca\n",
      "------------------------------\n",
      "Tamanho da pilha original:  8\n",
      "Tamanho da pilha de busca:  1\n",
      "Analisando o livro:  O Hobbit\n",
      "Continuando a busca\n",
      "------------------------------\n",
      "Tamanho da pilha original:  8\n",
      "Tamanho da pilha de busca:  0\n",
      "Analisando o livro:  Harry Potter\n",
      "Continuando a busca\n",
      "------------------------------\n",
      "Livro não encontrado\n"
     ]
    },
    {
     "data": {
      "text/plain": [
       "'Livro não encontrado'"
      ]
     },
     "execution_count": 40,
     "metadata": {},
     "output_type": "execute_result"
    }
   ],
   "source": [
    "achador_de_livros(pilha_de_livros, 'Revolução dos Bichos')"
   ]
  },
  {
   "cell_type": "code",
   "execution_count": 41,
   "metadata": {},
   "outputs": [
    {
     "name": "stdout",
     "output_type": "stream",
     "text": [
      "Vamos buscar o livro  Curso de Física Básica\n",
      "Tamanho da pilha original:  8\n",
      "Tamanho da pilha de busca:  7\n",
      "Analisando o livro:  Curso de Física Básica\n"
     ]
    },
    {
     "data": {
      "text/plain": [
       "'Curso de Física Básica'"
      ]
     },
     "execution_count": 41,
     "metadata": {},
     "output_type": "execute_result"
    }
   ],
   "source": [
    "achador_de_livros(pilha_de_livros, \"Curso de Física Básica\")"
   ]
  },
  {
   "cell_type": "markdown",
   "metadata": {},
   "source": [
    "Nesse caso temos uma busca linear (o `while`) e podemos perceber que no pior caso, o livro de interesse não está presente na pilha, iremos percorrer todos os livros. Esse é um dos motivos de programas iterativos serem de fácil análise de algoritmo, no caso linear.\n",
    "\n",
    "#### Recursão \n",
    "De primeira vista, a recursão pode parecer difícil de entender. \n",
    "\n",
    "De acordo com o dicionário, recrusão é: \"Propriedade de função, programa ou afim que se pode invocar a si próprio.\". Ou seja, a recursão ocorre quando uma função chama ela mesma no programa.  Qualquer função que faz a sua própria chamada é conhecida como função recursiva.\n",
    "\n",
    "Porém para evitar uma recursão infinita, a função precisa de **um caso base**. A função recursiva termina uma vez que a condição base é identificada.\n",
    "\n",
    "Voltando para o problema dos livros, podemos reescrevê-lo de forma recursiva!"
   ]
  },
  {
   "cell_type": "code",
   "execution_count": 52,
   "metadata": {},
   "outputs": [],
   "source": [
    "pilha_de_livros = [\"Harry Potter\", \"O Hobbit\", \"Drácula\", \"O andar do bêbado\", \"Cinderela\", \"Miseráveis\", \"Fundamentos de Física\", \"Curso de Física Básica\"]\n",
    "livro_de_interesse = \"Harry Potter\"\n",
    "\n",
    "def achador_de_livro_recursivo(pilha_de_livros, livro_de_interesse):\n",
    "    print(\"-\"*30)\n",
    "    print(f\"A pilha de livros é: {pilha_de_livros}\")\n",
    "    pilha_de_livros_busca = pilha_de_livros[::]\n",
    "    \n",
    "    if len(pilha_de_livros_busca) == 0: # não tenho mais livros para buscar, ou seja, o livro não está na pilha\n",
    "        return \"Livro não encontrado\"\n",
    "    \n",
    "    livro_da_pilha = pilha_de_livros_busca.pop()\n",
    "    print(f\"Vamos analisar o livro {livro_da_pilha}, e queremos encontrar o livro {livro_de_interesse}\")\n",
    "    \n",
    "    if livro_da_pilha == livro_de_interesse: # encontramos o livro\n",
    "        return livro_de_interesse\n",
    "    else: # ainda não encontramos o livro\n",
    "        print(\"Ainda não encontrei o livro!\")\n",
    "        return achador_de_livro_recursivo(pilha_de_livros_busca, livro_de_interesse)"
   ]
  },
  {
   "cell_type": "code",
   "execution_count": 54,
   "metadata": {},
   "outputs": [
    {
     "name": "stdout",
     "output_type": "stream",
     "text": [
      "------------------------------\n",
      "A pilha de livros é: ['Harry Potter', 'O Hobbit', 'Drácula', 'O andar do bêbado', 'Cinderela', 'Miseráveis', 'Fundamentos de Física', 'Curso de Física Básica']\n",
      "Vamos analisar o livro Curso de Física Básica, e queremos encontrar o livro A Revolução dos Bichos\n",
      "Ainda não encontrei o livro!\n",
      "------------------------------\n",
      "A pilha de livros é: ['Harry Potter', 'O Hobbit', 'Drácula', 'O andar do bêbado', 'Cinderela', 'Miseráveis', 'Fundamentos de Física']\n",
      "Vamos analisar o livro Fundamentos de Física, e queremos encontrar o livro A Revolução dos Bichos\n",
      "Ainda não encontrei o livro!\n",
      "------------------------------\n",
      "A pilha de livros é: ['Harry Potter', 'O Hobbit', 'Drácula', 'O andar do bêbado', 'Cinderela', 'Miseráveis']\n",
      "Vamos analisar o livro Miseráveis, e queremos encontrar o livro A Revolução dos Bichos\n",
      "Ainda não encontrei o livro!\n",
      "------------------------------\n",
      "A pilha de livros é: ['Harry Potter', 'O Hobbit', 'Drácula', 'O andar do bêbado', 'Cinderela']\n",
      "Vamos analisar o livro Cinderela, e queremos encontrar o livro A Revolução dos Bichos\n",
      "Ainda não encontrei o livro!\n",
      "------------------------------\n",
      "A pilha de livros é: ['Harry Potter', 'O Hobbit', 'Drácula', 'O andar do bêbado']\n",
      "Vamos analisar o livro O andar do bêbado, e queremos encontrar o livro A Revolução dos Bichos\n",
      "Ainda não encontrei o livro!\n",
      "------------------------------\n",
      "A pilha de livros é: ['Harry Potter', 'O Hobbit', 'Drácula']\n",
      "Vamos analisar o livro Drácula, e queremos encontrar o livro A Revolução dos Bichos\n",
      "Ainda não encontrei o livro!\n",
      "------------------------------\n",
      "A pilha de livros é: ['Harry Potter', 'O Hobbit']\n",
      "Vamos analisar o livro O Hobbit, e queremos encontrar o livro A Revolução dos Bichos\n",
      "Ainda não encontrei o livro!\n",
      "------------------------------\n",
      "A pilha de livros é: ['Harry Potter']\n",
      "Vamos analisar o livro Harry Potter, e queremos encontrar o livro A Revolução dos Bichos\n",
      "Ainda não encontrei o livro!\n",
      "------------------------------\n",
      "A pilha de livros é: []\n"
     ]
    },
    {
     "data": {
      "text/plain": [
       "'Livro não encontrado'"
      ]
     },
     "execution_count": 54,
     "metadata": {},
     "output_type": "execute_result"
    }
   ],
   "source": [
    "achador_de_livro_recursivo(pilha_de_livros, 'A Revolução dos Bichos')"
   ]
  },
  {
   "cell_type": "markdown",
   "metadata": {},
   "source": [
    "___\n",
    "#### **Diferenças entre recursão e iteração**\n",
    "Implementação:\n",
    "- Recursiva: Implementada com uma função chamando ela mesma\n",
    "- Iterativa: Implementada utilizando laços\n",
    "\n",
    "Estado:\n",
    "- Recursiva: Definida por valores armazenadas em uma pilha\n",
    "- Iterativa: Definida por variáveis de controle\n",
    "\n",
    "Sintaxe:\n",
    "- Recursiva: Pelo menos uma condição de terminação é necessária\n",
    "- Iterativa: Inclui inicialização, condicionais, e incremento/decrescim das variáveis de controle\n",
    "\n",
    "Terminação\n",
    "- Recursiva: Condição definida no corpo da função\n",
    "- Iterativa: Definida dentro laço\n",
    "\n",
    "Tamanho do código:\n",
    "- Recursiva: Menor que iterativa\n",
    "- Iterativa: Maior\n",
    "\n",
    "Velocidade:\n",
    "- Recursiva: Mais devagar devido ao overhead de manter os stacks de função\n",
    "- Iterativa: Mais rápida\n",
    "\n",
    "Complexidade de tempo:\n",
    "- Recursiva: Maior compelxidade de tempo\n",
    "- Iterativa: Mais fácil de ser cálculada olhando os loops de execução. Em geral, apresentam menor complexidade de tempo\n",
    "\n",
    "Utilização de memória:\n",
    "- Recursiva: Mais memoria é requerida\n",
    "- Iterativa: Menos memoria é requerida.\n",
    "\n",
    "\n",
    "#### Quando utilizar recursão vs iteração?\n",
    "Essa é uma pergunta que assombra a maior parte das pessoas programadoras. A maior parte dos códigos podem ser escrita tanto de forma recursiva como iterativa. Entretanto, em alguns casos a recursão pode ser mais intuitiva que a iteração. Por exemplo, quando lidamos com estruturas de listas aninhadas (`nested`). \n",
    "\n",
    "Em problemas que temos grafos e/ou optimizações, as funções recursivas podem ser de mais fácil leitura e implementações. Isso ocorre por podemos utilizar o \"dividir para conquistar\" e programação dinâmica.\n",
    "\n",
    "\n",
    "\n",
    "Curiosidade:\n",
    "\n",
    "Em computadores que seguem a arquitetura de Von Neumann, a iteração sempre será mais rápida que a recursão!\n",
    "\n",
    "https://www.geeksforgeeks.org/computer-organization-von-neumann-architecture/\n",
    "\n",
    "Livros de referência:\n",
    "\n",
    "- https://www.amazon.com.br/Grokking-Algorithms-illustrated-programmers-curious/dp/1617292230\n",
    "\n",
    "- https://www.amazon.com.br/Introduction-Algorithms-Thomas-H-Cormen/dp/0262033844\n",
    "\n",
    "- https://www.amazon.com/Structures-Algorithms-Python-Michael-Goodrich/dp/1118290275"
   ]
  },
  {
   "cell_type": "markdown",
   "metadata": {},
   "source": [
    "Vamos escrever uma função que, dada uma lista de números, execute sua soma. Para praticar, vamos utilizar uma abordagem iterativa e outra recursiva:"
   ]
  },
  {
   "cell_type": "code",
   "execution_count": 55,
   "metadata": {},
   "outputs": [],
   "source": [
    "def soma_numeros(lista):\n",
    "    soma = 0\n",
    "    \n",
    "    for numero in lista:\n",
    "        soma = soma + numero\n",
    "    return soma"
   ]
  },
  {
   "cell_type": "code",
   "execution_count": 56,
   "metadata": {},
   "outputs": [
    {
     "data": {
      "text/plain": [
       "190"
      ]
     },
     "execution_count": 56,
     "metadata": {},
     "output_type": "execute_result"
    }
   ],
   "source": [
    "soma_numeros(list(range(1,20)))"
   ]
  },
  {
   "cell_type": "code",
   "execution_count": 63,
   "metadata": {},
   "outputs": [],
   "source": [
    "def soma_numeros_recursiva(lista):\n",
    "    # Recursão\n",
    "    # Estado de parada\n",
    "    # Repetição\n",
    "    print(\"-\"*30)\n",
    "    print(f\"A lista está assim: {lista}\")\n",
    "    print(f\"O comprimento da lista é: {len(lista)}\")\n",
    "    \n",
    "    if len(lista) == 1:\n",
    "        return lista[0]\n",
    "    else:\n",
    "        print(f\"O primeiro elemento da lista agora é {lista[0]}\")\n",
    "        return lista[0] + soma_numeros_recursiva(lista[1:])"
   ]
  },
  {
   "cell_type": "code",
   "execution_count": null,
   "metadata": {},
   "outputs": [],
   "source": [
    "([1, 2, 3, 4])\n",
    "\n",
    "1 + soma_numeros_recursiva(lista[1:])\n",
    "1 + soma_numeros_recursiva([2, 3, 4])\n",
    "1 + ([2, 3, 4])\n",
    "\n",
    "1 + 2 + soma_numeros_recursiva(lista[1:])\n",
    "1 + 2 + ([3, 4])\n",
    "1 + 2 + 3 + soma_numeros_recursiva(lista[1:])\n",
    "1 + 2 + 3 + ([4])\n",
    "\n",
    "1 + 2 + 3 + 4"
   ]
  },
  {
   "cell_type": "code",
   "execution_count": 64,
   "metadata": {},
   "outputs": [
    {
     "name": "stdout",
     "output_type": "stream",
     "text": [
      "------------------------------\n",
      "A lista está assim: [1, 2, 3, 4]\n",
      "O comprimento da lista é: 4\n",
      "O primeiro elemento da lista agora é 1\n",
      "------------------------------\n",
      "A lista está assim: [2, 3, 4]\n",
      "O comprimento da lista é: 3\n",
      "O primeiro elemento da lista agora é 2\n",
      "------------------------------\n",
      "A lista está assim: [3, 4]\n",
      "O comprimento da lista é: 2\n",
      "O primeiro elemento da lista agora é 3\n",
      "------------------------------\n",
      "A lista está assim: [4]\n",
      "O comprimento da lista é: 1\n"
     ]
    },
    {
     "data": {
      "text/plain": [
       "10"
      ]
     },
     "execution_count": 64,
     "metadata": {},
     "output_type": "execute_result"
    }
   ],
   "source": [
    "soma_numeros_recursiva([1,2,3,4])"
   ]
  },
  {
   "cell_type": "markdown",
   "metadata": {},
   "source": [
    "___"
   ]
  },
  {
   "cell_type": "markdown",
   "metadata": {},
   "source": [
    "# Voltamos às 20h42"
   ]
  },
  {
   "cell_type": "markdown",
   "metadata": {},
   "source": [
    "## Tuplas"
   ]
  },
  {
   "cell_type": "markdown",
   "metadata": {},
   "source": [
    "Até o momento, temos utilizado **listas** pra armazenar uma coleção de dados.\n",
    "\n",
    "Aprenderemos agora sobre uma nova **estrutura de dados**: tuplas!\n",
    "\n",
    "Tuplas são estruturas bastante parecidas com listas:\n",
    "\n",
    "- Podem guardar **tipos diferentes de dados**.\n",
    "- São indexadas (podemos **acessar elementos por índices**).\n",
    "- São iteráveis (**podemos percorrer com o `for`**)."
   ]
  },
  {
   "cell_type": "code",
   "execution_count": 65,
   "metadata": {},
   "outputs": [],
   "source": [
    "# Listas vazias\n",
    "lista = list()\n",
    "lista = []"
   ]
  },
  {
   "cell_type": "code",
   "execution_count": 66,
   "metadata": {},
   "outputs": [],
   "source": [
    "# Criando uma tupla vazia\n",
    "tupla1 = tuple() # uma tupla vazia\n",
    "tupla2 = () # outra tupla vazia"
   ]
  },
  {
   "cell_type": "code",
   "execution_count": 67,
   "metadata": {},
   "outputs": [
    {
     "name": "stdout",
     "output_type": "stream",
     "text": [
      "()\n"
     ]
    }
   ],
   "source": [
    "print(tupla1)"
   ]
  },
  {
   "cell_type": "code",
   "execution_count": 68,
   "metadata": {},
   "outputs": [
    {
     "data": {
      "text/plain": [
       "[]"
      ]
     },
     "execution_count": 68,
     "metadata": {},
     "output_type": "execute_result"
    }
   ],
   "source": [
    "lista"
   ]
  },
  {
   "cell_type": "code",
   "execution_count": 69,
   "metadata": {},
   "outputs": [
    {
     "name": "stdout",
     "output_type": "stream",
     "text": [
      "()\n"
     ]
    }
   ],
   "source": [
    "print(tupla2)"
   ]
  },
  {
   "cell_type": "code",
   "execution_count": 71,
   "metadata": {},
   "outputs": [],
   "source": [
    "a = 2,3,4"
   ]
  },
  {
   "cell_type": "code",
   "execution_count": 72,
   "metadata": {},
   "outputs": [
    {
     "data": {
      "text/plain": [
       "tuple"
      ]
     },
     "execution_count": 72,
     "metadata": {},
     "output_type": "execute_result"
    }
   ],
   "source": [
    "type(a)"
   ]
  },
  {
   "cell_type": "code",
   "execution_count": 73,
   "metadata": {},
   "outputs": [],
   "source": [
    "linguagens = (\"Python\", \"SQL\", \"R\") # tupla com três elementos"
   ]
  },
  {
   "cell_type": "code",
   "execution_count": 74,
   "metadata": {},
   "outputs": [
    {
     "data": {
      "text/plain": [
       "('Python', 'SQL', 'R')"
      ]
     },
     "execution_count": 74,
     "metadata": {},
     "output_type": "execute_result"
    }
   ],
   "source": [
    "linguagens"
   ]
  },
  {
   "cell_type": "code",
   "execution_count": 75,
   "metadata": {},
   "outputs": [],
   "source": [
    "# também podemos alocar diferentes tipos de dados nas tuplas\n",
    "dados_variados = (20, 2.7, False, \"Ana\") # Tupla com diferentes tipos de dados"
   ]
  },
  {
   "cell_type": "code",
   "execution_count": 76,
   "metadata": {},
   "outputs": [
    {
     "data": {
      "text/plain": [
       "(20, 2.7, False, 'Ana')"
      ]
     },
     "execution_count": 76,
     "metadata": {},
     "output_type": "execute_result"
    }
   ],
   "source": [
    "dados_variados"
   ]
  },
  {
   "cell_type": "code",
   "execution_count": 78,
   "metadata": {},
   "outputs": [],
   "source": [
    "cadastros = (\n",
    "    (\"Ana\", 32, 'SP'),\n",
    "    (\"João\", 25, 'RJ'),\n",
    "    (\"Maria\", 19, 'PE')\n",
    ")"
   ]
  },
  {
   "cell_type": "code",
   "execution_count": 79,
   "metadata": {},
   "outputs": [
    {
     "data": {
      "text/plain": [
       "(('Ana', 32, 'SP'), ('João', 25, 'RJ'), ('Maria', 19, 'PE'))"
      ]
     },
     "execution_count": 79,
     "metadata": {},
     "output_type": "execute_result"
    }
   ],
   "source": [
    "cadastros"
   ]
  },
  {
   "cell_type": "markdown",
   "metadata": {},
   "source": [
    "**Loop do tipo `for`**"
   ]
  },
  {
   "cell_type": "code",
   "execution_count": 80,
   "metadata": {},
   "outputs": [
    {
     "name": "stdout",
     "output_type": "stream",
     "text": [
      "('Ana', 32, 'SP')\n",
      "('João', 25, 'RJ')\n",
      "('Maria', 19, 'PE')\n"
     ]
    }
   ],
   "source": [
    "for cadastro in cadastros:\n",
    "    print(cadastro)"
   ]
  },
  {
   "cell_type": "markdown",
   "metadata": {},
   "source": [
    "**Fatiando (slicing) dos dados**"
   ]
  },
  {
   "cell_type": "code",
   "execution_count": 85,
   "metadata": {},
   "outputs": [
    {
     "name": "stdout",
     "output_type": "stream",
     "text": [
      "Primeira pessoa cadastrada:  ('Ana', 32, 'SP')\n",
      "Nome da primeira pessoa cadastrada:  Ana\n",
      "Idade da primeira pessoa cadastrada:  32\n",
      "Estado da segunda pessoa cadastrada:  RJ\n"
     ]
    }
   ],
   "source": [
    "print(\"Primeira pessoa cadastrada: \", cadastros[0])\n",
    "print(\"Nome da primeira pessoa cadastrada: \", cadastros[0][0])\n",
    "print(\"Idade da primeira pessoa cadastrada: \", cadastros[0][1])\n",
    "print(\"Estado da segunda pessoa cadastrada: \", cadastros[1][2])"
   ]
  },
  {
   "cell_type": "markdown",
   "metadata": {},
   "source": [
    "Tuplas podem virar listas, e listas podem virar tuplas!"
   ]
  },
  {
   "cell_type": "code",
   "execution_count": 87,
   "metadata": {},
   "outputs": [
    {
     "name": "stdout",
     "output_type": "stream",
     "text": [
      "Tipo: <class 'list'>, conteudo: ['acabate', 'banana', 'abacaxi']\n",
      "Tipo: <class 'tuple'>, conteudo: ('acabate', 'banana', 'abacaxi')\n"
     ]
    }
   ],
   "source": [
    "lista_frutas = [\"acabate\", \"banana\", \"abacaxi\"]\n",
    "print(f\"Tipo: {type(lista_frutas)}, conteudo: {lista_frutas}\")\n",
    "\n",
    "tupla_frutas = tuple(lista_frutas)\n",
    "print(f\"Tipo: {type(tupla_frutas)}, conteudo: {tupla_frutas}\")"
   ]
  },
  {
   "cell_type": "code",
   "execution_count": 92,
   "metadata": {},
   "outputs": [
    {
     "name": "stdout",
     "output_type": "stream",
     "text": [
      "Tipo: <class 'list'>, conteudo: ['acabate', 'banana', 'abacaxi']\n"
     ]
    }
   ],
   "source": [
    "lista_frutas2 = list(tupla_frutas)\n",
    "print(f\"Tipo: {type(lista_frutas2)}, conteudo: {lista_frutas2}\")"
   ]
  },
  {
   "cell_type": "code",
   "execution_count": 93,
   "metadata": {},
   "outputs": [
    {
     "data": {
      "text/plain": [
       "[2, 3, 4]"
      ]
     },
     "execution_count": 93,
     "metadata": {},
     "output_type": "execute_result"
    }
   ],
   "source": [
    "list([2,3,4])"
   ]
  },
  {
   "cell_type": "code",
   "execution_count": 95,
   "metadata": {},
   "outputs": [
    {
     "data": {
      "text/plain": [
       "[2, 3, 4]"
      ]
     },
     "execution_count": 95,
     "metadata": {},
     "output_type": "execute_result"
    }
   ],
   "source": [
    "list((2,3,4))"
   ]
  },
  {
   "cell_type": "markdown",
   "metadata": {},
   "source": [
    "A principal diferença é: tuplas são **imutáveis**!\n",
    "\n",
    "Para tuplas **não é possível**: alterar elementos individuais, adicionar elementos, remover elementos ou alterar a ordem dos elementos. Uma vez criada, não é possível alterar nada de uma tupla!"
   ]
  },
  {
   "cell_type": "code",
   "execution_count": 90,
   "metadata": {},
   "outputs": [
    {
     "name": "stdout",
     "output_type": "stream",
     "text": [
      "Lista: ['pera', 'banana', 'abacaxi']\n",
      "Tupla: ('acabate', 'banana', 'abacaxi')\n",
      "Lista modificada: ['pera', 'banana', 'abacaxi']\n"
     ]
    },
    {
     "ename": "TypeError",
     "evalue": "'tuple' object does not support item assignment",
     "output_type": "error",
     "traceback": [
      "\u001b[1;31m---------------------------------------------------------------------------\u001b[0m",
      "\u001b[1;31mTypeError\u001b[0m                                 Traceback (most recent call last)",
      "\u001b[1;32m<ipython-input-90-22fccfafd604>\u001b[0m in \u001b[0;36m<module>\u001b[1;34m\u001b[0m\n\u001b[0;32m      5\u001b[0m \u001b[1;33m\u001b[0m\u001b[0m\n\u001b[0;32m      6\u001b[0m \u001b[0mprint\u001b[0m\u001b[1;33m(\u001b[0m\u001b[1;34mf\"Lista modificada: {lista_frutas}\"\u001b[0m\u001b[1;33m)\u001b[0m\u001b[1;33m\u001b[0m\u001b[1;33m\u001b[0m\u001b[0m\n\u001b[1;32m----> 7\u001b[1;33m \u001b[0mtupla_frutas\u001b[0m\u001b[1;33m[\u001b[0m\u001b[1;36m0\u001b[0m\u001b[1;33m]\u001b[0m \u001b[1;33m=\u001b[0m \u001b[1;34m\"pera\"\u001b[0m\u001b[1;33m\u001b[0m\u001b[1;33m\u001b[0m\u001b[0m\n\u001b[0m",
      "\u001b[1;31mTypeError\u001b[0m: 'tuple' object does not support item assignment"
     ]
    }
   ],
   "source": [
    "print(f\"Lista: {lista_frutas}\")\n",
    "print(f\"Tupla: {tupla_frutas}\")\n",
    "\n",
    "lista_frutas[0] = \"pera\"\n",
    "\n",
    "print(f\"Lista modificada: {lista_frutas}\")\n",
    "tupla_frutas[0] = \"pera\""
   ]
  },
  {
   "cell_type": "markdown",
   "metadata": {},
   "source": [
    "Qual a vantagem das tuplas?\n",
    "\n",
    "As tuplas e listas possuem operações úteis parecidas, `slicing`, `index`, `ordenação`. Sendo a principal diferença é que as listas conseguimos modificar o seu conteúdo enquanto as tuplas não conseguimos.\n",
    "\n",
    "Há duas diferenças que sugerem o uso de tuplas no lugar de listas:\n",
    "- Performance:\n",
    "  - Tuplas apresentam uma leve vantagem de acesso (\"pegar\" um elemento)\n",
    "  - Tuplas ocupam menos espaço na memória\n",
    "- Indicar de uma estrutura rígida:\n",
    "  - É um jeito de **sinalizar que esses dados não deveriam ser alterados**. \n",
    "  - É um meio de garantir que os elementos estarão **em uma ordem específica**.\n",
    "\n",
    "\n",
    "  - Quando utilizamos tuplas, queremos indicar que novos elementos não deveriam ser inseridos, assim como o seu conteúdo não deveria ser modificado"
   ]
  },
  {
   "cell_type": "markdown",
   "metadata": {},
   "source": [
    "# Exercícios"
   ]
  },
  {
   "cell_type": "markdown",
   "metadata": {},
   "source": [
    "## Funções"
   ]
  },
  {
   "cell_type": "markdown",
   "metadata": {},
   "source": [
    "1. Escreva uma função que calcule e retorne o dobro de um número inserido. Teste este caso solicitando ao usuário que insira um número e após isso, retorne a resposta."
   ]
  },
  {
   "cell_type": "code",
   "execution_count": 1,
   "metadata": {},
   "outputs": [
    {
     "data": {
      "text/plain": [
       "10"
      ]
     },
     "execution_count": 1,
     "metadata": {},
     "output_type": "execute_result"
    }
   ],
   "source": [
    "def dobra_numero(numero : float):\n",
    "    \n",
    "    return 2 * numero\n",
    "\n",
    "dobra_numero(5)"
   ]
  },
  {
   "cell_type": "markdown",
   "metadata": {},
   "source": [
    "2. Crie uma função para cálculo do comprimento da circunferência (C = 2 * 3.14 * R), sendo C o comprimento e R o raio da circunferência "
   ]
  },
  {
   "cell_type": "code",
   "execution_count": 3,
   "metadata": {},
   "outputs": [
    {
     "data": {
      "text/plain": [
       "31.400000000000002"
      ]
     },
     "execution_count": 3,
     "metadata": {},
     "output_type": "execute_result"
    }
   ],
   "source": [
    "def calcula_circuferencia(raio : float):\n",
    "    \n",
    "    return  2 * 3.14 * raio\n",
    "\n",
    "calcula_circuferencia(5)"
   ]
  },
  {
   "cell_type": "markdown",
   "metadata": {},
   "source": [
    "3. Faça uma função que emita uma saudação baseada no horário. A função deve receber o nome e o horário (apenas número inteiro) e emita a mensagem com as seguintes condições:\n",
    "- até meio dia (não incluso): \"Bom dia, (VARIAVEL_NOME)\"\n",
    "- entre meio dia (incluso) e 18h (não incluso): \"Boa tarde, (VARIAVEL_NOME)\"\n",
    "- após as 18h (incluso): \"Boa noite, (VARIAVEL_NOME)\""
   ]
  },
  {
   "cell_type": "code",
   "execution_count": 5,
   "metadata": {},
   "outputs": [
    {
     "name": "stdout",
     "output_type": "stream",
     "text": [
      "Bom dia, Joao\n"
     ]
    }
   ],
   "source": [
    "def emite_saudacao(horario : int, variavel_nome: str):\n",
    "    \n",
    "    if  horario < 12:\n",
    "        print(f'Bom dia, {variavel_nome}')\n",
    "    elif horario >= 12 and  horario < 18:\n",
    "        print(f'Boa tarde, {variavel_nome}')\n",
    "    else:\n",
    "        print(f'Boa noite, {variavel_nome}')\n",
    "\n",
    "emite_saudacao(8, 'Joao')"
   ]
  },
  {
   "cell_type": "markdown",
   "metadata": {},
   "source": [
    "4. Faça uma função que verifique se um número é par. Teste esta função solicitando ao usuário que digite um número e emitindo a mensagem adequada caso o número seja par ou não."
   ]
  },
  {
   "cell_type": "code",
   "execution_count": 7,
   "metadata": {},
   "outputs": [
    {
     "name": "stdout",
     "output_type": "stream",
     "text": [
      "É par\n"
     ]
    }
   ],
   "source": [
    "def verifica_paridade():\n",
    "    \n",
    "    numero = int(input('Informe um numero'))\n",
    "    if numero % 2 == 0:\n",
    "        print('É par')\n",
    "    else:\n",
    "        print('É ímpar')\n",
    "\n",
    "verifica_paridade()"
   ]
  },
  {
   "cell_type": "code",
   "execution_count": null,
   "metadata": {},
   "outputs": [],
   "source": []
  },
  {
   "cell_type": "markdown",
   "metadata": {},
   "source": [
    "5. Crie uma função que recebe duas listas. Caso estas duas listas sejam do mesmo tamanho some os elementos de cada lista com mesmo índica, caso contrário retorne uma lista vazia.\n",
    "Se as duas listas de entrada forem do mesmo tamanho o programa deve se comportar como no exemplo:\n",
    "```python\n",
    "lista_01 = [1, 2, 3, 4, 5]\n",
    "lista_02 = [6, 7, 8, 9, 10]\n",
    "\n",
    "soma_listas(lista_01, lista_02)\n",
    "```\n",
    "saída:\n",
    "\n",
    "```\n",
    "[7, 9, 11, 13, 15]\n",
    "```"
   ]
  },
  {
   "cell_type": "code",
   "execution_count": 8,
   "metadata": {},
   "outputs": [
    {
     "data": {
      "text/plain": [
       "[7, 9, 11, 13, 15]"
      ]
     },
     "execution_count": 8,
     "metadata": {},
     "output_type": "execute_result"
    }
   ],
   "source": [
    "def soma_listas(lista1, lista2):\n",
    "\n",
    "    if len(lista1)==len(lista2):\n",
    "        \n",
    "        return [lista1[i]+lista2[i] for i in range(len(lista1))]\n",
    "    \n",
    "    else:\n",
    "        return []\n",
    "        \n",
    "lista_01 = [1, 2, 3, 4, 5]\n",
    "lista_02 = [6, 7, 8, 9, 10]\n",
    "\n",
    "soma_listas(lista_01, lista_02)"
   ]
  },
  {
   "cell_type": "markdown",
   "metadata": {},
   "source": [
    "6. Utilize a mesma lógica do exercício anterior, porém agora você deve multiplicar os elementos ao invés de somá-los."
   ]
  },
  {
   "cell_type": "code",
   "execution_count": 9,
   "metadata": {},
   "outputs": [
    {
     "data": {
      "text/plain": [
       "[6, 14, 24, 36, 50]"
      ]
     },
     "execution_count": 9,
     "metadata": {},
     "output_type": "execute_result"
    }
   ],
   "source": [
    "def multiplica_listas(lista1, lista2):\n",
    "\n",
    "    if len(lista1)==len(lista2):\n",
    "        \n",
    "        return [lista1[i]*lista2[i] for i in range(len(lista1))]\n",
    "    \n",
    "    else:\n",
    "        return []\n",
    "        \n",
    "lista_01 = [1, 2, 3, 4, 5]\n",
    "lista_02 = [6, 7, 8, 9, 10]\n",
    "\n",
    "multiplica_listas(lista_01, lista_02)"
   ]
  },
  {
   "cell_type": "markdown",
   "metadata": {},
   "source": [
    "7. Faça uma função que recebe uma lista de números e calcula a média destes números."
   ]
  },
  {
   "cell_type": "code",
   "execution_count": 19,
   "metadata": {},
   "outputs": [
    {
     "name": "stdout",
     "output_type": "stream",
     "text": [
      "1.25\n"
     ]
    }
   ],
   "source": [
    "def calcula_media(lista1):\n",
    "    soma = 0\n",
    "    for valor in lista1:\n",
    "        soma += valor\n",
    "\n",
    "    media = soma / len(lista1)\n",
    "    return media\n",
    "\n",
    "resultado = calcula_media([1, 2, 1, 1])\n",
    "print(resultado)\n"
   ]
  },
  {
   "cell_type": "code",
   "execution_count": null,
   "metadata": {},
   "outputs": [],
   "source": [
    "def calcula_media(lista):\n",
    "    if not lista:\n",
    "        return None\n",
    "    else:\n",
    "        soma = sum(lista)\n",
    "        media = soma / len(lista)\n",
    "        return media\n",
    "        \n",
    "numeros = [1, 2, 3, 4, 5]\n",
    "media_resultado = calcula_media(numeros)\n",
    "\n",
    "print(f\"A média dos números na lista é: {media_resultado:.2f}\")"
   ]
  },
  {
   "cell_type": "markdown",
   "metadata": {},
   "source": [
    "8. Faça uma função que calcula o fatorial de um número."
   ]
  },
  {
   "cell_type": "code",
   "execution_count": 17,
   "metadata": {},
   "outputs": [
    {
     "name": "stdout",
     "output_type": "stream",
     "text": [
      "120\n"
     ]
    }
   ],
   "source": [
    "def calcula_fatorial(numero: int):\n",
    "    \n",
    "    if numero == 0:\n",
    "        return 1\n",
    "    else:\n",
    "        return numero * calcula_fatorial(numero-1)\n",
    "    \n",
    "resultado = calcula_fatorial(5)\n",
    "print(resultado)"
   ]
  },
  {
   "cell_type": "markdown",
   "metadata": {},
   "source": [
    "## Tuplas"
   ]
  },
  {
   "cell_type": "markdown",
   "metadata": {},
   "source": [
    "1. Um exemplo de uso de estruturas rígida poderia ser o cadastro de pessoas.  \n",
    "Nestes casos, coletamos algumas informações básicas sobre as pessoas usuárias, como nome, idade e estado de residência, por exemplo. Neste o sistema não espera que haja menos ou mais informações, sendo, assim, \"rígida\" essa estrutura.  \n",
    "\n",
    "Crie um código utilizando tupla e funções para coletar e armazenar os nomes, idades e estados dos usuários, dadas estas informações de entrada."
   ]
  },
  {
   "cell_type": "code",
   "execution_count": 18,
   "metadata": {},
   "outputs": [],
   "source": [
    "def cadastra_pessoa():\n",
    "    nome = input('Insira o nome') \n",
    "    idade = int(input('Insira a idade'))\n",
    "    estado = input('Insira  o estado de residência')\n",
    "\n",
    "    return (nome,idade,estado)\n",
    "    "
   ]
  },
  {
   "cell_type": "markdown",
   "metadata": {},
   "source": [
    "2. Utilizando a lista gerada anteriormente, crie três funções:\n",
    "- Pegue a idade minima das pessoas cadastradas\n",
    "- Pegue a idade máxima das pessoas cadastradas\n",
    "- Calcule a idade média das pessoas cadastradas"
   ]
  },
  {
   "cell_type": "code",
   "execution_count": null,
   "metadata": {},
   "outputs": [],
   "source": [
    "cadastro_pessoa = []\n",
    "\n",
    "while True:\n",
    "\n",
    "    finaliza = input('Deseja cadastrar mais uma pessoa? (S ou N)') \n",
    "    \n",
    "    if finaliza != 'S':\n",
    "        break\n",
    "\n",
    "    cadastro_pessoa.append(cadastra_pessoa())\n",
    "\n",
    "idades = [ pessoa[1] for pessoa in cadastro_pessoa]\n",
    "\n",
    "def calcula_min_max_idades(idades):\n",
    "\n",
    "    idade_minima = idades[0]\n",
    "    idade_maxima = idades[0]\n",
    "\n",
    "    for idade in idades:\n",
    "\n",
    "        if idade < idade_minima:\n",
    "            idade_minima = idade\n",
    "        if idade > idade_maxima:\n",
    "            idade_maxima = idade\n",
    "    \n",
    "    return idade_minima, idade_maxima\n",
    "\n",
    "idade_minima, idade_maxima = calcula_min_max_idades(idades)\n",
    "media = calcula_media(idades)"
   ]
  },
  {
   "cell_type": "markdown",
   "metadata": {},
   "source": [
    "**Desafio**\n",
    "\n",
    "3. Modifique a função de cadastro de usuário para pegar as seguintes informações:\n",
    "- Nome\n",
    "- Idade\n",
    "- Estado\n",
    "- Sexo\n",
    "\n",
    "Agora crie uma função que permita descobrir a idade média de pessoas cadastradas pelo sexo (para manter simples, masculino e feminino, representado por `m` e `f`, respectivamente)."
   ]
  },
  {
   "cell_type": "code",
   "execution_count": null,
   "metadata": {},
   "outputs": [],
   "source": [
    "def cadastra_pessoa():\n",
    "    nome = input('Insira o nome') \n",
    "    idade = int(input('Insira a idade'))\n",
    "    estado = input('Insira  o estado de residência')\n",
    "    sexo = input('Insira  o sexo (f ou m)')\n",
    "\n",
    "    return (nome,idade,estado, sexo)\n",
    "    "
   ]
  },
  {
   "cell_type": "markdown",
   "metadata": {},
   "source": [
    "\n",
    "cadastro_pessoa = []\n",
    "\n",
    "while True:\n",
    "\n",
    "    finaliza = input('Deseja cadastrar mais uma pessoa? (S ou N)') \n",
    "    \n",
    "    if finaliza != 'S':\n",
    "        break\n",
    "\n",
    "    cadastro_pessoa.append(cadastra_pessoa())\n",
    "\n",
    "idades_f = [ pessoa[1] if pessoa[3]=='f' for pessoa in cadastro_pessoa]\n",
    "idades_m = [ pessoa[1] if pessoa[3]=='m' for pessoa in cadastro_pessoa]\n",
    "\n",
    "def calcula_min_max_idades(idades):\n",
    "\n",
    "    idade_minima = idades[0]\n",
    "    idade_maxima = idades[0]\n",
    "\n",
    "    for idade in idades:\n",
    "\n",
    "        if idade < idade_minima:\n",
    "            idade_minima = idade\n",
    "        if idade > idade_maxima:\n",
    "            idade_maxima = idade\n",
    "    \n",
    "    return idade_minima, idade_maxima\n",
    "\n",
    "idade_minima_m, idade_maxima_m = calcula_min_max_idades(idades_m)\n",
    "media_m = calcula_media(idades_m)\n",
    "\n",
    "idade_minima_f, idade_maxima_f = calcula_min_max_idades(idades_f)\n",
    "media_f = calcula_media(idades_f)"
   ]
  }
 ],
 "metadata": {
  "kernelspec": {
   "display_name": "Python 3",
   "language": "python",
   "name": "python3"
  },
  "language_info": {
   "codemirror_mode": {
    "name": "ipython",
    "version": 3
   },
   "file_extension": ".py",
   "mimetype": "text/x-python",
   "name": "python",
   "nbconvert_exporter": "python",
   "pygments_lexer": "ipython3",
   "version": "3.10.12"
  },
  "vscode": {
   "interpreter": {
    "hash": "5c66de18c091297d67c9a295278ca9503b5163a383fa85591c3cdb6daec33020"
   }
  }
 },
 "nbformat": 4,
 "nbformat_minor": 2
}
